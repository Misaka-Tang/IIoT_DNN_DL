{
 "cells": [
  {
   "cell_type": "code",
   "execution_count": 1,
   "metadata": {},
   "outputs": [
    {
     "name": "stderr",
     "output_type": "stream",
     "text": [
      "/Users/tangweiye/opt/anaconda3/lib/python3.9/site-packages/scipy/__init__.py:146: UserWarning: A NumPy version >=1.16.5 and <1.23.0 is required for this version of SciPy (detected version 1.25.1\n",
      "  warnings.warn(f\"A NumPy version >={np_minversion} and <{np_maxversion}\"\n"
     ]
    }
   ],
   "source": [
    "import numpy as np\n",
    "import pandas as pd\n",
    "import matplotlib.pyplot as plt\n",
    "import tensorflow as tf\n",
    "from tensorflow.keras import layers\n",
    "from keras.layers import Input, Dense, Reshape, Flatten, Dropout\n",
    "from keras.layers import BatchNormalization, Activation, ZeroPadding2D\n",
    "from keras.models import Sequential, Model\n",
    "from keras.optimizers import Adam"
   ]
  },
  {
   "cell_type": "code",
   "execution_count": 2,
   "metadata": {},
   "outputs": [],
   "source": [
    "# load dataset\n",
    "data = pd.read_csv('../../datas/dataKmeanSampleOversampling.csv')"
   ]
  },
  {
   "cell_type": "code",
   "execution_count": 3,
   "metadata": {},
   "outputs": [],
   "source": [
    "# get label = 7 (normal)\n",
    "normal_data = data[data['Attack_type'] == 7]\n",
    "anomaly_data = data[data['Attack_type'] != 7]"
   ]
  },
  {
   "cell_type": "code",
   "execution_count": 4,
   "metadata": {},
   "outputs": [
    {
     "data": {
      "text/html": [
       "<div>\n",
       "<style scoped>\n",
       "    .dataframe tbody tr th:only-of-type {\n",
       "        vertical-align: middle;\n",
       "    }\n",
       "\n",
       "    .dataframe tbody tr th {\n",
       "        vertical-align: top;\n",
       "    }\n",
       "\n",
       "    .dataframe thead th {\n",
       "        text-align: right;\n",
       "    }\n",
       "</style>\n",
       "<table border=\"1\" class=\"dataframe\">\n",
       "  <thead>\n",
       "    <tr style=\"text-align: right;\">\n",
       "      <th></th>\n",
       "      <th>Unnamed: 0</th>\n",
       "      <th>arp.opcode</th>\n",
       "      <th>arp.hw.size</th>\n",
       "      <th>icmp.checksum</th>\n",
       "      <th>icmp.seq_le</th>\n",
       "      <th>icmp.unused</th>\n",
       "      <th>http.content_length</th>\n",
       "      <th>http.response</th>\n",
       "      <th>http.tls_port</th>\n",
       "      <th>tcp.ack</th>\n",
       "      <th>...</th>\n",
       "      <th>mqtt.conack.flags-1471199</th>\n",
       "      <th>mqtt.conack.flags-1574358</th>\n",
       "      <th>mqtt.conack.flags-1574359</th>\n",
       "      <th>mqtt.protoname-0</th>\n",
       "      <th>mqtt.protoname-0.0</th>\n",
       "      <th>mqtt.protoname-MQTT</th>\n",
       "      <th>mqtt.topic-0</th>\n",
       "      <th>mqtt.topic-0.0</th>\n",
       "      <th>mqtt.topic-Temperature_and_Humidity</th>\n",
       "      <th>Attack_type</th>\n",
       "    </tr>\n",
       "  </thead>\n",
       "  <tbody>\n",
       "    <tr>\n",
       "      <th>0</th>\n",
       "      <td>991139</td>\n",
       "      <td>-0.003437</td>\n",
       "      <td>-0.003618</td>\n",
       "      <td>-0.166331</td>\n",
       "      <td>-0.179964</td>\n",
       "      <td>0.0</td>\n",
       "      <td>-0.053767</td>\n",
       "      <td>-0.131792</td>\n",
       "      <td>0.0</td>\n",
       "      <td>-0.149153</td>\n",
       "      <td>...</td>\n",
       "      <td>0</td>\n",
       "      <td>0</td>\n",
       "      <td>0</td>\n",
       "      <td>1</td>\n",
       "      <td>0</td>\n",
       "      <td>0</td>\n",
       "      <td>1</td>\n",
       "      <td>0</td>\n",
       "      <td>0</td>\n",
       "      <td>7</td>\n",
       "    </tr>\n",
       "    <tr>\n",
       "      <th>1</th>\n",
       "      <td>988981</td>\n",
       "      <td>-0.003437</td>\n",
       "      <td>-0.003618</td>\n",
       "      <td>-0.166331</td>\n",
       "      <td>-0.179964</td>\n",
       "      <td>0.0</td>\n",
       "      <td>-0.053767</td>\n",
       "      <td>-0.131792</td>\n",
       "      <td>0.0</td>\n",
       "      <td>-0.149152</td>\n",
       "      <td>...</td>\n",
       "      <td>0</td>\n",
       "      <td>0</td>\n",
       "      <td>0</td>\n",
       "      <td>1</td>\n",
       "      <td>0</td>\n",
       "      <td>0</td>\n",
       "      <td>1</td>\n",
       "      <td>0</td>\n",
       "      <td>0</td>\n",
       "      <td>7</td>\n",
       "    </tr>\n",
       "    <tr>\n",
       "      <th>2</th>\n",
       "      <td>991901</td>\n",
       "      <td>-0.003437</td>\n",
       "      <td>-0.003618</td>\n",
       "      <td>-0.166331</td>\n",
       "      <td>-0.179964</td>\n",
       "      <td>0.0</td>\n",
       "      <td>-0.053767</td>\n",
       "      <td>-0.131792</td>\n",
       "      <td>0.0</td>\n",
       "      <td>-0.149153</td>\n",
       "      <td>...</td>\n",
       "      <td>0</td>\n",
       "      <td>0</td>\n",
       "      <td>0</td>\n",
       "      <td>1</td>\n",
       "      <td>0</td>\n",
       "      <td>0</td>\n",
       "      <td>0</td>\n",
       "      <td>0</td>\n",
       "      <td>1</td>\n",
       "      <td>7</td>\n",
       "    </tr>\n",
       "    <tr>\n",
       "      <th>3</th>\n",
       "      <td>996352</td>\n",
       "      <td>-0.003437</td>\n",
       "      <td>-0.003618</td>\n",
       "      <td>-0.166331</td>\n",
       "      <td>-0.179964</td>\n",
       "      <td>0.0</td>\n",
       "      <td>-0.053767</td>\n",
       "      <td>-0.131792</td>\n",
       "      <td>0.0</td>\n",
       "      <td>-0.149153</td>\n",
       "      <td>...</td>\n",
       "      <td>0</td>\n",
       "      <td>0</td>\n",
       "      <td>0</td>\n",
       "      <td>1</td>\n",
       "      <td>0</td>\n",
       "      <td>0</td>\n",
       "      <td>1</td>\n",
       "      <td>0</td>\n",
       "      <td>0</td>\n",
       "      <td>7</td>\n",
       "    </tr>\n",
       "    <tr>\n",
       "      <th>4</th>\n",
       "      <td>991504</td>\n",
       "      <td>-0.003437</td>\n",
       "      <td>-0.003618</td>\n",
       "      <td>-0.166331</td>\n",
       "      <td>-0.179964</td>\n",
       "      <td>0.0</td>\n",
       "      <td>-0.053767</td>\n",
       "      <td>-0.131792</td>\n",
       "      <td>0.0</td>\n",
       "      <td>-0.149153</td>\n",
       "      <td>...</td>\n",
       "      <td>0</td>\n",
       "      <td>0</td>\n",
       "      <td>0</td>\n",
       "      <td>1</td>\n",
       "      <td>0</td>\n",
       "      <td>0</td>\n",
       "      <td>1</td>\n",
       "      <td>0</td>\n",
       "      <td>0</td>\n",
       "      <td>7</td>\n",
       "    </tr>\n",
       "    <tr>\n",
       "      <th>...</th>\n",
       "      <td>...</td>\n",
       "      <td>...</td>\n",
       "      <td>...</td>\n",
       "      <td>...</td>\n",
       "      <td>...</td>\n",
       "      <td>...</td>\n",
       "      <td>...</td>\n",
       "      <td>...</td>\n",
       "      <td>...</td>\n",
       "      <td>...</td>\n",
       "      <td>...</td>\n",
       "      <td>...</td>\n",
       "      <td>...</td>\n",
       "      <td>...</td>\n",
       "      <td>...</td>\n",
       "      <td>...</td>\n",
       "      <td>...</td>\n",
       "      <td>...</td>\n",
       "      <td>...</td>\n",
       "      <td>...</td>\n",
       "      <td>...</td>\n",
       "    </tr>\n",
       "    <tr>\n",
       "      <th>154299</th>\n",
       "      <td>741571</td>\n",
       "      <td>-0.003437</td>\n",
       "      <td>-0.003618</td>\n",
       "      <td>-0.166331</td>\n",
       "      <td>-0.179964</td>\n",
       "      <td>0.0</td>\n",
       "      <td>-0.053767</td>\n",
       "      <td>-0.131792</td>\n",
       "      <td>0.0</td>\n",
       "      <td>-0.144682</td>\n",
       "      <td>...</td>\n",
       "      <td>0</td>\n",
       "      <td>0</td>\n",
       "      <td>0</td>\n",
       "      <td>1</td>\n",
       "      <td>0</td>\n",
       "      <td>0</td>\n",
       "      <td>1</td>\n",
       "      <td>0</td>\n",
       "      <td>0</td>\n",
       "      <td>7</td>\n",
       "    </tr>\n",
       "    <tr>\n",
       "      <th>154300</th>\n",
       "      <td>741118</td>\n",
       "      <td>-0.003437</td>\n",
       "      <td>-0.003618</td>\n",
       "      <td>-0.166331</td>\n",
       "      <td>-0.179964</td>\n",
       "      <td>0.0</td>\n",
       "      <td>-0.053767</td>\n",
       "      <td>-0.131792</td>\n",
       "      <td>0.0</td>\n",
       "      <td>1.013944</td>\n",
       "      <td>...</td>\n",
       "      <td>0</td>\n",
       "      <td>0</td>\n",
       "      <td>0</td>\n",
       "      <td>1</td>\n",
       "      <td>0</td>\n",
       "      <td>0</td>\n",
       "      <td>1</td>\n",
       "      <td>0</td>\n",
       "      <td>0</td>\n",
       "      <td>7</td>\n",
       "    </tr>\n",
       "    <tr>\n",
       "      <th>154301</th>\n",
       "      <td>751189</td>\n",
       "      <td>-0.003437</td>\n",
       "      <td>-0.003618</td>\n",
       "      <td>-0.166331</td>\n",
       "      <td>-0.179964</td>\n",
       "      <td>0.0</td>\n",
       "      <td>-0.053767</td>\n",
       "      <td>-0.131792</td>\n",
       "      <td>0.0</td>\n",
       "      <td>-0.149152</td>\n",
       "      <td>...</td>\n",
       "      <td>0</td>\n",
       "      <td>0</td>\n",
       "      <td>0</td>\n",
       "      <td>1</td>\n",
       "      <td>0</td>\n",
       "      <td>0</td>\n",
       "      <td>1</td>\n",
       "      <td>0</td>\n",
       "      <td>0</td>\n",
       "      <td>7</td>\n",
       "    </tr>\n",
       "    <tr>\n",
       "      <th>154302</th>\n",
       "      <td>736738</td>\n",
       "      <td>-0.003437</td>\n",
       "      <td>-0.003618</td>\n",
       "      <td>-0.166331</td>\n",
       "      <td>-0.179964</td>\n",
       "      <td>0.0</td>\n",
       "      <td>-0.053767</td>\n",
       "      <td>-0.131792</td>\n",
       "      <td>0.0</td>\n",
       "      <td>-0.144871</td>\n",
       "      <td>...</td>\n",
       "      <td>0</td>\n",
       "      <td>0</td>\n",
       "      <td>0</td>\n",
       "      <td>1</td>\n",
       "      <td>0</td>\n",
       "      <td>0</td>\n",
       "      <td>1</td>\n",
       "      <td>0</td>\n",
       "      <td>0</td>\n",
       "      <td>7</td>\n",
       "    </tr>\n",
       "    <tr>\n",
       "      <th>154303</th>\n",
       "      <td>742331</td>\n",
       "      <td>-0.003437</td>\n",
       "      <td>-0.003618</td>\n",
       "      <td>-0.166331</td>\n",
       "      <td>-0.179964</td>\n",
       "      <td>0.0</td>\n",
       "      <td>-0.053767</td>\n",
       "      <td>-0.131792</td>\n",
       "      <td>0.0</td>\n",
       "      <td>-0.144640</td>\n",
       "      <td>...</td>\n",
       "      <td>0</td>\n",
       "      <td>0</td>\n",
       "      <td>0</td>\n",
       "      <td>1</td>\n",
       "      <td>0</td>\n",
       "      <td>0</td>\n",
       "      <td>1</td>\n",
       "      <td>0</td>\n",
       "      <td>0</td>\n",
       "      <td>7</td>\n",
       "    </tr>\n",
       "  </tbody>\n",
       "</table>\n",
       "<p>10909 rows × 98 columns</p>\n",
       "</div>"
      ],
      "text/plain": [
       "        Unnamed: 0  arp.opcode  arp.hw.size  icmp.checksum  icmp.seq_le  \\\n",
       "0           991139   -0.003437    -0.003618      -0.166331    -0.179964   \n",
       "1           988981   -0.003437    -0.003618      -0.166331    -0.179964   \n",
       "2           991901   -0.003437    -0.003618      -0.166331    -0.179964   \n",
       "3           996352   -0.003437    -0.003618      -0.166331    -0.179964   \n",
       "4           991504   -0.003437    -0.003618      -0.166331    -0.179964   \n",
       "...            ...         ...          ...            ...          ...   \n",
       "154299      741571   -0.003437    -0.003618      -0.166331    -0.179964   \n",
       "154300      741118   -0.003437    -0.003618      -0.166331    -0.179964   \n",
       "154301      751189   -0.003437    -0.003618      -0.166331    -0.179964   \n",
       "154302      736738   -0.003437    -0.003618      -0.166331    -0.179964   \n",
       "154303      742331   -0.003437    -0.003618      -0.166331    -0.179964   \n",
       "\n",
       "        icmp.unused  http.content_length  http.response  http.tls_port  \\\n",
       "0               0.0            -0.053767      -0.131792            0.0   \n",
       "1               0.0            -0.053767      -0.131792            0.0   \n",
       "2               0.0            -0.053767      -0.131792            0.0   \n",
       "3               0.0            -0.053767      -0.131792            0.0   \n",
       "4               0.0            -0.053767      -0.131792            0.0   \n",
       "...             ...                  ...            ...            ...   \n",
       "154299          0.0            -0.053767      -0.131792            0.0   \n",
       "154300          0.0            -0.053767      -0.131792            0.0   \n",
       "154301          0.0            -0.053767      -0.131792            0.0   \n",
       "154302          0.0            -0.053767      -0.131792            0.0   \n",
       "154303          0.0            -0.053767      -0.131792            0.0   \n",
       "\n",
       "         tcp.ack  ...  mqtt.conack.flags-1471199  mqtt.conack.flags-1574358  \\\n",
       "0      -0.149153  ...                          0                          0   \n",
       "1      -0.149152  ...                          0                          0   \n",
       "2      -0.149153  ...                          0                          0   \n",
       "3      -0.149153  ...                          0                          0   \n",
       "4      -0.149153  ...                          0                          0   \n",
       "...          ...  ...                        ...                        ...   \n",
       "154299 -0.144682  ...                          0                          0   \n",
       "154300  1.013944  ...                          0                          0   \n",
       "154301 -0.149152  ...                          0                          0   \n",
       "154302 -0.144871  ...                          0                          0   \n",
       "154303 -0.144640  ...                          0                          0   \n",
       "\n",
       "        mqtt.conack.flags-1574359  mqtt.protoname-0  mqtt.protoname-0.0  \\\n",
       "0                               0                 1                   0   \n",
       "1                               0                 1                   0   \n",
       "2                               0                 1                   0   \n",
       "3                               0                 1                   0   \n",
       "4                               0                 1                   0   \n",
       "...                           ...               ...                 ...   \n",
       "154299                          0                 1                   0   \n",
       "154300                          0                 1                   0   \n",
       "154301                          0                 1                   0   \n",
       "154302                          0                 1                   0   \n",
       "154303                          0                 1                   0   \n",
       "\n",
       "        mqtt.protoname-MQTT  mqtt.topic-0  mqtt.topic-0.0  \\\n",
       "0                         0             1               0   \n",
       "1                         0             1               0   \n",
       "2                         0             0               0   \n",
       "3                         0             1               0   \n",
       "4                         0             1               0   \n",
       "...                     ...           ...             ...   \n",
       "154299                    0             1               0   \n",
       "154300                    0             1               0   \n",
       "154301                    0             1               0   \n",
       "154302                    0             1               0   \n",
       "154303                    0             1               0   \n",
       "\n",
       "        mqtt.topic-Temperature_and_Humidity  Attack_type  \n",
       "0                                         0            7  \n",
       "1                                         0            7  \n",
       "2                                         1            7  \n",
       "3                                         0            7  \n",
       "4                                         0            7  \n",
       "...                                     ...          ...  \n",
       "154299                                    0            7  \n",
       "154300                                    0            7  \n",
       "154301                                    0            7  \n",
       "154302                                    0            7  \n",
       "154303                                    0            7  \n",
       "\n",
       "[10909 rows x 98 columns]"
      ]
     },
     "execution_count": 4,
     "metadata": {},
     "output_type": "execute_result"
    }
   ],
   "source": [
    "normal_data"
   ]
  },
  {
   "cell_type": "code",
   "execution_count": 5,
   "metadata": {},
   "outputs": [
    {
     "name": "stdout",
     "output_type": "stream",
     "text": [
      "Number of normal data:  10909\n",
      "Number of anomaly data:  152776\n"
     ]
    }
   ],
   "source": [
    "# count number of normal data\n",
    "print('Number of normal data: ', len(normal_data))\n",
    "print('Number of anomaly data: ', len(anomaly_data))"
   ]
  },
  {
   "cell_type": "code",
   "execution_count": 6,
   "metadata": {},
   "outputs": [
    {
     "name": "stderr",
     "output_type": "stream",
     "text": [
      "/var/folders/bb/4xpzjsw5339b418xg5qk5r100000gn/T/ipykernel_85928/2589865491.py:3: FutureWarning: The frame.append method is deprecated and will be removed from pandas in a future version. Use pandas.concat instead.\n",
      "  anomaly_data = anomaly_data.append(subset)\n"
     ]
    }
   ],
   "source": [
    "# cut 0.2 of normal data to anomaly data\n",
    "subset = normal_data.loc[normal_data['Attack_type'] == 7].sample(frac=0.2)\n",
    "anomaly_data = anomaly_data.append(subset)\n",
    "normal_data = normal_data.drop(subset.index)"
   ]
  },
  {
   "cell_type": "code",
   "execution_count": 7,
   "metadata": {},
   "outputs": [
    {
     "name": "stdout",
     "output_type": "stream",
     "text": [
      "Number of normal data:  8727\n",
      "Number of anomaly data:  154958\n"
     ]
    }
   ],
   "source": [
    "print('Number of normal data: ', len(normal_data))\n",
    "print('Number of anomaly data: ', len(anomaly_data))"
   ]
  },
  {
   "cell_type": "code",
   "execution_count": 8,
   "metadata": {},
   "outputs": [],
   "source": [
    "# shuffle anomaly data\n",
    "anomaly_data = anomaly_data.sample(frac=1)"
   ]
  },
  {
   "cell_type": "code",
   "execution_count": 9,
   "metadata": {},
   "outputs": [],
   "source": [
    "# split label each set\n",
    "train_label = normal_data['Attack_type']\n",
    "train_data = normal_data.drop(columns=['Attack_type'])\n",
    "\n",
    "test_label = anomaly_data['Attack_type']\n",
    "test_data = anomaly_data.drop(columns=['Attack_type'])"
   ]
  },
  {
   "cell_type": "code",
   "execution_count": 10,
   "metadata": {},
   "outputs": [],
   "source": [
    "train_data = train_data.to_numpy()\n",
    "test_data = test_data.to_numpy()"
   ]
  },
  {
   "cell_type": "markdown",
   "metadata": {},
   "source": [
    "## define model"
   ]
  },
  {
   "cell_type": "code",
   "execution_count": 11,
   "metadata": {},
   "outputs": [],
   "source": [
    "def make_generator_model():\n",
    "    model = tf.keras.Sequential()\n",
    "    model.add(layers.Dense(256, use_bias=False, input_shape=(97,)))\n",
    "    model.add(layers.BatchNormalization())\n",
    "    model.add(layers.LeakyReLU())\n",
    "\n",
    "    model.add(layers.Dense(512, use_bias=False))\n",
    "    model.add(layers.BatchNormalization())\n",
    "    model.add(layers.LeakyReLU())\n",
    "\n",
    "    model.add(layers.Dense(256, use_bias=False))\n",
    "    model.add(layers.BatchNormalization())\n",
    "    model.add(layers.LeakyReLU())\n",
    "\n",
    "    model.add(layers.Dense(97, activation='tanh'))\n",
    "\n",
    "    return model"
   ]
  },
  {
   "cell_type": "code",
   "execution_count": 12,
   "metadata": {},
   "outputs": [],
   "source": [
    "def make_discriminator_model():\n",
    "    model = tf.keras.Sequential()\n",
    "    model.add(layers.Dense(256, use_bias=False, input_shape=(97,)))\n",
    "    model.add(layers.BatchNormalization())\n",
    "    model.add(layers.LeakyReLU())\n",
    "    model.add(layers.Dropout(0.3))\n",
    "\n",
    "    model.add(layers.Dense(128, use_bias=False))\n",
    "    model.add(layers.BatchNormalization())\n",
    "    model.add(layers.LeakyReLU())\n",
    "    model.add(layers.Dropout(0.3))\n",
    "\n",
    "    model.add(layers.Dense(64, use_bias=False))\n",
    "    model.add(layers.BatchNormalization())\n",
    "    model.add(layers.LeakyReLU())\n",
    "    model.add(layers.Dropout(0.3))\n",
    "\n",
    "    model.add(layers.Dense(1, activation='sigmoid'))\n",
    "\n",
    "    return model"
   ]
  },
  {
   "cell_type": "code",
   "execution_count": 13,
   "metadata": {},
   "outputs": [],
   "source": [
    "# define loss function\n",
    "cross_entropy = tf.keras.losses.BinaryCrossentropy(from_logits=True)\n",
    "\n",
    "def generator_loss(fake_output):\n",
    "    return cross_entropy(tf.ones_like(fake_output), fake_output)\n",
    "\n",
    "def discriminator_loss(real_output, fake_output):\n",
    "    real_loss = cross_entropy(tf.ones_like(real_output), real_output)\n",
    "    fake_loss = cross_entropy(tf.zeros_like(fake_output), fake_output)\n",
    "    total_loss = real_loss + fake_loss\n",
    "    return total_loss"
   ]
  },
  {
   "cell_type": "code",
   "execution_count": 14,
   "metadata": {},
   "outputs": [
    {
     "name": "stderr",
     "output_type": "stream",
     "text": [
      "WARNING:absl:At this time, the v2.11+ optimizer `tf.keras.optimizers.Adam` runs slowly on M1/M2 Macs, please use the legacy Keras optimizer instead, located at `tf.keras.optimizers.legacy.Adam`.\n",
      "2023-10-17 15:53:51.963885: I tensorflow/core/common_runtime/pluggable_device/pluggable_device_factory.cc:303] Could not identify NUMA node of platform GPU ID 0, defaulting to 0. Your kernel may not have been built with NUMA support.\n",
      "2023-10-17 15:53:51.964067: I tensorflow/core/common_runtime/pluggable_device/pluggable_device_factory.cc:269] Created TensorFlow device (/job:localhost/replica:0/task:0/device:GPU:0 with 0 MB memory) -> physical PluggableDevice (device: 0, name: METAL, pci bus id: <undefined>)\n",
      "WARNING:absl:At this time, the v2.11+ optimizer `tf.keras.optimizers.Adam` runs slowly on M1/M2 Macs, please use the legacy Keras optimizer instead, located at `tf.keras.optimizers.legacy.Adam`.\n"
     ]
    },
    {
     "name": "stdout",
     "output_type": "stream",
     "text": [
      "Metal device set to: Apple M1 Pro\n",
      "\n",
      "systemMemory: 16.00 GB\n",
      "maxCacheSize: 5.33 GB\n",
      "\n"
     ]
    }
   ],
   "source": [
    "# give optimizer for each model\n",
    "generator_optimizer = tf.keras.optimizers.Adam(1e-4)\n",
    "discriminator_optimizer = tf.keras.optimizers.Adam(1e-4)\n"
   ]
  },
  {
   "cell_type": "code",
   "execution_count": 15,
   "metadata": {},
   "outputs": [
    {
     "name": "stderr",
     "output_type": "stream",
     "text": [
      "WARNING:absl:There is a known slowdown when using v2.11+ Keras optimizers on M1/M2 Macs. Falling back to the legacy Keras optimizer, i.e., `tf.keras.optimizers.legacy.Adam`.\n"
     ]
    }
   ],
   "source": [
    "discriminator = make_discriminator_model()\n",
    "discriminator.compile(optimizer=discriminator_optimizer, loss=discriminator_loss,metrics=['accuracy'])"
   ]
  },
  {
   "cell_type": "code",
   "execution_count": 16,
   "metadata": {},
   "outputs": [],
   "source": [
    "generator = make_generator_model()"
   ]
  },
  {
   "cell_type": "code",
   "execution_count": 17,
   "metadata": {},
   "outputs": [
    {
     "name": "stdout",
     "output_type": "stream",
     "text": [
      "tf.Tensor(\n",
      "[[ 9.62847099e-02 -1.76899046e-01 -3.02165955e-01 -2.81431854e-01\n",
      "   1.77457258e-01 -1.59353659e-01  1.11244038e-01  4.84287739e-02\n",
      "  -1.55487612e-01  2.42011979e-01  2.29428008e-01 -8.23979601e-02\n",
      "   5.90760648e-01 -1.50755808e-01 -2.37021372e-01 -4.22196060e-01\n",
      "  -2.80259877e-01  3.51563036e-01 -1.26420647e-01  3.71460736e-01\n",
      "  -1.18070439e-01 -4.18000013e-01  2.57793933e-01  2.34765902e-01\n",
      "  -3.17387670e-01  1.43017858e-01  2.01941922e-01 -3.47290218e-01\n",
      "   2.97689736e-01 -3.89319509e-02  4.53129351e-01  3.61051202e-01\n",
      "  -2.00487450e-01 -4.56813991e-01  2.32905280e-02  5.31588830e-02\n",
      "   5.75727113e-02 -1.57413930e-01 -2.80511349e-01  1.19617313e-01\n",
      "  -4.03069168e-01 -2.28721142e-01  2.58752942e-01  4.54541415e-01\n",
      "   4.67453927e-01  3.76092177e-03 -1.18754044e-01 -2.25513473e-01\n",
      "  -3.06620091e-01 -7.58393854e-02  3.02069694e-01  1.26744360e-01\n",
      "  -5.12018800e-01  3.61511469e-01 -7.01496527e-02 -1.74748138e-01\n",
      "   2.12451994e-01 -1.99378684e-01 -2.98212528e-01 -1.68720379e-01\n",
      "  -6.94989040e-02  2.44389221e-01  1.81294858e-01 -2.86809295e-01\n",
      "   9.04913470e-02  4.80593666e-02 -1.93606153e-01 -5.26927292e-01\n",
      "  -7.95782506e-02  1.91300884e-01  1.51250854e-01  6.90535083e-02\n",
      "  -5.90611361e-02  2.74852693e-01  4.42996204e-01  6.61241233e-01\n",
      "  -1.44048240e-02  3.82057488e-01  5.80757856e-02 -8.57400671e-02\n",
      "   1.79987296e-01 -4.06872839e-01  1.44476116e-01  5.30200079e-04\n",
      "   7.02822059e-02 -1.09352611e-01  2.82621175e-01  2.22420916e-01\n",
      "   6.21940494e-01  5.62012661e-03 -8.74571055e-02 -6.06148094e-02\n",
      "   2.41310701e-01 -3.40109259e-01 -2.49516349e-02 -1.96325660e-01\n",
      "   2.66162574e-01]], shape=(1, 97), dtype=float32)\n"
     ]
    }
   ],
   "source": [
    "# test generator to create fake data\n",
    "noise = tf.random.normal([1, 97])\n",
    "generated_data = generator(noise, training=False)\n",
    "print(generated_data)"
   ]
  },
  {
   "cell_type": "code",
   "execution_count": 18,
   "metadata": {},
   "outputs": [],
   "source": [
    "# train discriminator\n",
    "EPOCHS = 10\n",
    "noise_dim = 97\n",
    "num_examples_to_generate = train_data.shape[0]\n",
    "\n",
    "\n",
    "def train_step(data):\n",
    "    threshold = None\n",
    "    noise = tf.random.normal([num_examples_to_generate, noise_dim])\n",
    "\n",
    "    with tf.GradientTape() as gen_tape, tf.GradientTape() as disc_tape:\n",
    "        generated_data = generator(noise, training=True)\n",
    "\n",
    "        real_output = discriminator(data, training=True)\n",
    "        fake_output = discriminator(generated_data, training=True)\n",
    "\n",
    "        gen_loss = generator_loss(fake_output)\n",
    "        disc_loss = discriminator_loss(real_output, fake_output)\n",
    "\n",
    "    gradients_of_generator = gen_tape.gradient(gen_loss, generator.trainable_variables)\n",
    "    gradients_of_discriminator = disc_tape.gradient(disc_loss, discriminator.trainable_variables)\n",
    "\n",
    "    generator_optimizer.apply_gradients(zip(gradients_of_generator, generator.trainable_variables))\n",
    "    discriminator_optimizer.apply_gradients(zip(gradients_of_discriminator, discriminator.trainable_variables))\n",
    "\n",
    "    if threshold is None:\n",
    "        threshold = tf.reduce_mean(real_output).numpy()\n",
    "    return threshold\n",
    "\n",
    "\n",
    "\n",
    "def train(dataset, epochs):\n",
    "    for epoch in range(epochs):\n",
    "        threshold = train_step(dataset)\n",
    "        if epoch % 10 == 0:\n",
    "            print('Epoch: ', epoch)\n",
    "    return threshold\n"
   ]
  },
  {
   "cell_type": "code",
   "execution_count": 19,
   "metadata": {},
   "outputs": [],
   "source": [
    "def test(data, threshold):\n",
    "    # if greater than threshold, it is normal\n",
    "    # if less than threshold, it is anomaly\n",
    "    output = discriminator(data, training=False)\n",
    "    # if output > threshold: give 1 else 0\n",
    "    output = np.where(output > threshold, 1, 0)\n",
    "    return output\n"
   ]
  },
  {
   "cell_type": "code",
   "execution_count": 34,
   "metadata": {},
   "outputs": [],
   "source": [
    "def evaluation(validate_data, output):\n",
    "    # draw a confusion matrix\n",
    "    from sklearn.metrics import confusion_matrix\n",
    "    from sklearn.metrics import classification_report\n",
    "    from sklearn.metrics import accuracy_score\n",
    "    # use plot confusion matrix\n",
    "    import seaborn as sns\n",
    "    import matplotlib.pyplot as plt\n",
    "    \n",
    "\n",
    "    cm = confusion_matrix(validate_data, output)\n",
    "    print(cm)\n",
    "    print(classification_report(validate_data, output))\n",
    "    print(accuracy_score(validate_data, output))\n",
    "    \n",
    "    \n",
    "    ax = plt.subplot()\n",
    "    sns.heatmap(cm, annot=True, ax=ax, fmt='.20g', cmap='Blues')\n",
    "    ax.set_xlabel('Predicted labels')\n",
    "    ax.set_ylabel('True labels')\n",
    "    ax.set_title('Confusion Matrix')\n",
    "    plt.figure(figsize=(20, 20), dpi=100)\n",
    "    ax.xaxis.set_ticklabels(['Anomaly', 'Normal'])\n",
    "    ax.yaxis.set_ticklabels(['Anomaly', 'Normal'])\n",
    "    plt.show()\n",
    "\n",
    "        "
   ]
  },
  {
   "cell_type": "code",
   "execution_count": 21,
   "metadata": {},
   "outputs": [
    {
     "name": "stderr",
     "output_type": "stream",
     "text": [
      "loc(\"mps_select\"(\"(mpsFileLoc): /AppleInternal/Library/BuildRoots/75428952-3aa4-11ee-8b65-46d450270006/Library/Caches/com.apple.xbs/Sources/MetalPerformanceShadersGraph/mpsgraph/MetalPerformanceShadersGraph/Core/Files/MPSGraphUtilities.mm\":294:0)): error: 'anec.gain_offset_control' op result #0 must be 4D/5D memref of 16-bit float or 8-bit signed integer or 8-bit unsigned integer values, but got 'memref<1x8727x1x256xi1>'\n",
      "loc(\"mps_select\"(\"(mpsFileLoc): /AppleInternal/Library/BuildRoots/75428952-3aa4-11ee-8b65-46d450270006/Library/Caches/com.apple.xbs/Sources/MetalPerformanceShadersGraph/mpsgraph/MetalPerformanceShadersGraph/Core/Files/MPSGraphUtilities.mm\":294:0)): error: 'anec.gain_offset_control' op result #0 must be 4D/5D memref of 16-bit float or 8-bit signed integer or 8-bit unsigned integer values, but got 'memref<1x8727x1x128xi1>'\n",
      "loc(\"mps_select\"(\"(mpsFileLoc): /AppleInternal/Library/BuildRoots/75428952-3aa4-11ee-8b65-46d450270006/Library/Caches/com.apple.xbs/Sources/MetalPerformanceShadersGraph/mpsgraph/MetalPerformanceShadersGraph/Core/Files/MPSGraphUtilities.mm\":294:0)): error: 'anec.gain_offset_control' op result #0 must be 4D/5D memref of 16-bit float or 8-bit signed integer or 8-bit unsigned integer values, but got 'memref<1x8727x1x64xi1>'\n",
      "/Users/tangweiye/opt/anaconda3/lib/python3.9/site-packages/keras/src/backend.py:5805: UserWarning: \"`binary_crossentropy` received `from_logits=True`, but the `output` argument was produced by a Sigmoid activation and thus does not represent logits. Was this intended?\n",
      "  output, from_logits = _get_logits(\n",
      "loc(\"mps_select\"(\"(mpsFileLoc): /AppleInternal/Library/BuildRoots/75428952-3aa4-11ee-8b65-46d450270006/Library/Caches/com.apple.xbs/Sources/MetalPerformanceShadersGraph/mpsgraph/MetalPerformanceShadersGraph/Core/Files/MPSGraphUtilities.mm\":294:0)): error: 'anec.gain_offset_control' op result #0 must be 4D/5D memref of 16-bit float or 8-bit signed integer or 8-bit unsigned integer values, but got 'memref<1x8727x1x1xi1>'\n",
      "loc(\"mps_select\"(\"(mpsFileLoc): /AppleInternal/Library/BuildRoots/75428952-3aa4-11ee-8b65-46d450270006/Library/Caches/com.apple.xbs/Sources/MetalPerformanceShadersGraph/mpsgraph/MetalPerformanceShadersGraph/Core/Files/MPSGraphUtilities.mm\":294:0)): error: 'anec.gain_offset_control' op result #0 must be 4D/5D memref of 16-bit float or 8-bit signed integer or 8-bit unsigned integer values, but got 'memref<1x8727x1x64xi1>'\n",
      "loc(\"mps_select\"(\"(mpsFileLoc): /AppleInternal/Library/BuildRoots/75428952-3aa4-11ee-8b65-46d450270006/Library/Caches/com.apple.xbs/Sources/MetalPerformanceShadersGraph/mpsgraph/MetalPerformanceShadersGraph/Core/Files/MPSGraphUtilities.mm\":294:0)): error: 'anec.gain_offset_control' op result #0 must be 4D/5D memref of 16-bit float or 8-bit signed integer or 8-bit unsigned integer values, but got 'memref<1x8727x1x128xi1>'\n",
      "loc(\"mps_select\"(\"(mpsFileLoc): /AppleInternal/Library/BuildRoots/75428952-3aa4-11ee-8b65-46d450270006/Library/Caches/com.apple.xbs/Sources/MetalPerformanceShadersGraph/mpsgraph/MetalPerformanceShadersGraph/Core/Files/MPSGraphUtilities.mm\":294:0)): error: 'anec.gain_offset_control' op result #0 must be 4D/5D memref of 16-bit float or 8-bit signed integer or 8-bit unsigned integer values, but got 'memref<1x8727x1x256xi1>'\n"
     ]
    },
    {
     "name": "stdout",
     "output_type": "stream",
     "text": [
      "Epoch:  0\n",
      "threshold:  0.47797024\n",
      "[[0]\n",
      " [0]\n",
      " [0]\n",
      " ...\n",
      " [0]\n",
      " [0]\n",
      " [0]]\n"
     ]
    }
   ],
   "source": [
    "# train model and get threshold\n",
    "threshold = train(train_data, EPOCHS)\n",
    "print('threshold: ', threshold)\n",
    "# test discriminator\n",
    "output = test(test_data, threshold)\n",
    "print(output)\n"
   ]
  },
  {
   "cell_type": "code",
   "execution_count": 22,
   "metadata": {},
   "outputs": [],
   "source": [
    "test_label = np.where(test_label == 7, 1, 0)"
   ]
  },
  {
   "cell_type": "code",
   "execution_count": 35,
   "metadata": {},
   "outputs": [
    {
     "name": "stdout",
     "output_type": "stream",
     "text": [
      "[[152776      0]\n",
      " [  2039    143]]\n",
      "              precision    recall  f1-score   support\n",
      "\n",
      "           0       0.99      1.00      0.99    152776\n",
      "           1       1.00      0.07      0.12      2182\n",
      "\n",
      "    accuracy                           0.99    154958\n",
      "   macro avg       0.99      0.53      0.56    154958\n",
      "weighted avg       0.99      0.99      0.98    154958\n",
      "\n",
      "0.9868415957872456\n"
     ]
    },
    {
     "data": {
      "image/png": "[encoded data removed]",
      "text/plain": [
       "<Figure size 432x288 with 2 Axes>"
      ]
     },
     "metadata": {
      "needs_background": "light"
     },
     "output_type": "display_data"
    },
    {
     "data": {
      "text/plain": [
       "<Figure size 2000x2000 with 0 Axes>"
      ]
     },
     "metadata": {},
     "output_type": "display_data"
    }
   ],
   "source": [
    "evaluation(test_label, output)"
   ]
  }
 ],
 "metadata": {
  "kernelspec": {
   "display_name": "base",
   "language": "python",
   "name": "python3"
  },
  "language_info": {
   "codemirror_mode": {
    "name": "ipython",
    "version": 3
   },
   "file_extension": ".py",
   "mimetype": "text/x-python",
   "name": "python",
   "nbconvert_exporter": "python",
   "pygments_lexer": "ipython3",
   "version": "3.9.12"
  }
 },
 "nbformat": 4,
 "nbformat_minor": 2
}
